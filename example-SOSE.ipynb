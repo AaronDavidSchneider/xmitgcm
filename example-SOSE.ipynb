{
 "cells": [
  {
   "cell_type": "code",
   "execution_count": 1,
   "metadata": {
    "collapsed": true
   },
   "outputs": [],
   "source": [
    "import numpy as np\n",
    "import xray\n",
    "from matplotlib import pyplot as plt\n",
    "%matplotlib inline"
   ]
  },
  {
   "cell_type": "code",
   "execution_count": 2,
   "metadata": {
    "collapsed": false
   },
   "outputs": [
    {
     "data": {
      "text/plain": [
       "(4096, 4096)"
      ]
     },
     "execution_count": 2,
     "metadata": {},
     "output_type": "execute_result"
    }
   ],
   "source": [
    "import resource\n",
    "resource.setrlimit(resource.RLIMIT_NOFILE, (4096 ,4096 ))\n",
    "resource.getrlimit(resource.RLIMIT_NOFILE)\n"
   ]
  },
  {
   "cell_type": "code",
   "execution_count": 7,
   "metadata": {
    "collapsed": false
   },
   "outputs": [
    {
     "data": {
      "text/plain": [
       "<module 'mdsxray' from 'mdsxray.pyc'>"
      ]
     },
     "execution_count": 7,
     "metadata": {},
     "output_type": "execute_result"
    }
   ],
   "source": [
    "import mdsxray\n",
    "reload(mdsxray)"
   ]
  },
  {
   "cell_type": "code",
   "execution_count": 8,
   "metadata": {
    "collapsed": false
   },
   "outputs": [
    {
     "data": {
      "text/plain": [
       "<xray.Dataset>\n",
       "Dimensions:  (X: 2160, Xp1: 2160, Y: 320, Yp1: 320, Z: 42, Zl: 42, Zp1: 43, Zu: 41, time: 437)\n",
       "Coordinates:\n",
       "  * Xp1      (Xp1) >f4 5.55112e-17 0.166667 0.333333 0.5 0.666667 0.833333 ...\n",
       "  * Zl       (Zl) >f4 0.0 -10.0 -21.0 -33.0 -46.0 -60.0 -76.0 -94.0 -114.0 ...\n",
       "  * Yp1      (Yp1) >f4 -77.9583 -77.7916 -77.625 -77.4583 -77.2916 -77.125 ...\n",
       "  * Zp1      (Zp1) >f4 0.0 -10.0 -21.0 -33.0 -46.0 -60.0 -76.0 -94.0 -114.0 ...\n",
       "  * Y        (Y) >f4 -77.875 -77.7083 -77.5416 -77.375 -77.2083 -77.0416 ...\n",
       "  * X        (X) >f4 0.0833333 0.25 0.416667 0.583333 0.75 0.916667 1.08333 ...\n",
       "  * Z        (Z) >f4 -5.0 -15.5 -27.0 -39.5 -53.0 -68.0 -85.0 -104.0 -125.5 ...\n",
       "  * Zu       (Zu) >f4 -15.5 -27.0 -39.5 -53.0 -68.0 -85.0 -104.0 -125.5 ...\n",
       "  * time     (time) int64 432000 864000 1296000 1728000 2160000 2592000 ...\n",
       "Data variables:\n",
       "    YC       (Y, X) >f4 -77.875 -77.875 -77.875 -77.875 -77.875 -77.875 ...\n",
       "    YG       (Yp1, Xp1) >f4 -77.9583 -77.9583 -77.9583 -77.9583 -77.9583 ...\n",
       "    rA       (Y, X) >f4 7.21182e+07 7.21182e+07 7.21182e+07 7.21182e+07 ...\n",
       "    dxG      (Yp1, X) >f4 3865.71 3865.71 3865.71 3865.71 3865.71 3865.71 ...\n",
       "    dxC      (Y, Xp1) >f4 3892.06 3892.06 3892.06 3892.06 3892.06 3892.06 ...\n",
       "    XC       (Y, X) >f4 0.0833333 0.25 0.416667 0.583333 0.75 0.916667 ...\n",
       "    XG       (Yp1, Xp1) >f4 5.55112e-17 0.166667 0.333333 0.5 0.666667 ...\n",
       "    Depth    (Y, X) >f4 0.0 0.0 0.0 0.0 0.0 0.0 0.0 0.0 0.0 0.0 0.0 0.0 0.0 ...\n",
       "    drC      (Zp1) >f4 5.0 10.5 11.5 12.5 13.5 15.0 17.0 19.0 21.5 24.5 27.5 ...\n",
       "    drF      (Z) >f4 10.0 11.0 12.0 13.0 14.0 16.0 18.0 20.0 23.0 26.0 29.0 ...\n",
       "    HFacS    (Z, Yp1, X) >f4 0.0 0.0 0.0 0.0 0.0 0.0 0.0 0.0 0.0 0.0 0.0 0.0 ...\n",
       "    HFacW    (Z, Y, Xp1) >f4 0.0 0.0 0.0 0.0 0.0 0.0 0.0 0.0 0.0 0.0 0.0 0.0 ...\n",
       "    HFacC    (Z, Y, X) >f4 0.0 0.0 0.0 0.0 0.0 0.0 0.0 0.0 0.0 0.0 0.0 0.0 ...\n",
       "    rAw      (Y, Xp1) >f4 7.21182e+07 7.21182e+07 7.21182e+07 7.21182e+07 ...\n",
       "    rAs      (Yp1, X) >f4 7.16299e+07 7.16299e+07 7.16299e+07 7.16299e+07 ...\n",
       "    dyG      (Y, Xp1) >f4 18529.6 18529.6 18529.6 18529.6 18529.6 18529.6 ...\n",
       "    rAz      (Yp1, Xp1) >f4 7.16299e+07 7.16299e+07 7.16299e+07 7.16299e+07 ...\n",
       "    dyC      (Yp1, X) >f4 18529.6 18529.6 18529.6 18529.6 18529.6 18529.6 ...\n",
       "    THETA    (time, Z, Y, X) float32 0.0 0.0 0.0 0.0 0.0 0.0 0.0 0.0 0.0 0.0 ...\n",
       "    SALT     (time, Z, Y, X) float32 0.0 0.0 0.0 0.0 0.0 0.0 0.0 0.0 0.0 0.0 ...\n",
       "    UVEL     (time, Z, Y, Xp1) float32 0.0 0.0 0.0 0.0 0.0 0.0 0.0 0.0 0.0 ...\n",
       "    VVEL     (time, Z, Yp1, X) float32 0.0 0.0 0.0 0.0 0.0 0.0 0.0 0.0 0.0 ...\n",
       "    WVEL     (time, Zl, Y, X) float32 0.0 0.0 0.0 0.0 0.0 0.0 0.0 0.0 0.0 ...\n",
       "    PHIHYD   (time, Z, Y, X) float32 -1.66493 -1.66493 -1.66493 -1.66493 ...\n",
       "    DRHODR   (time, Zl, Y, X) float32 0.0 0.0 0.0 0.0 0.0 0.0 0.0 0.0 0.0 ...\n",
       "Attributes:\n",
       "    history: Some made up attribute"
      ]
     },
     "execution_count": 8,
     "metadata": {},
     "output_type": "execute_result"
    }
   ],
   "source": [
    "iters = range(480, 210240, 480)\n",
    "ddir = '/data/scratch/rpa/SOSE/run_np240'\n",
    "store = mdsxray.MDSDataStore(ddir, iters, deltaT=900, prefix=['SOstt_5d',])\n",
    "ds = xray.Dataset.load_store(store)\n",
    "ds"
   ]
  },
  {
   "cell_type": "code",
   "execution_count": 24,
   "metadata": {
    "collapsed": false
   },
   "outputs": [
    {
     "data": {
      "image/png": "[encoded data removed]",
      "text/plain": [
       "<matplotlib.figure.Figure at 0x7f2202814950>"
      ]
     },
     "metadata": {},
     "output_type": "display_data"
    }
   ],
   "source": [
    "plt.pcolormesh(ds['SALT'][30,:,50].data.compute())\n",
    "plt.clim([33,35])"
   ]
  },
  {
   "cell_type": "code",
   "execution_count": null,
   "metadata": {
    "collapsed": true
   },
   "outputs": [],
   "source": []
  }
 ],
 "metadata": {
  "kernelspec": {
   "display_name": "Python 2.7",
   "language": "python",
   "name": "python2"
  },
  "language_info": {
   "codemirror_mode": {
    "name": "ipython",
    "version": 2
   },
   "file_extension": ".py",
   "mimetype": "text/x-python",
   "name": "python",
   "nbconvert_exporter": "python",
   "pygments_lexer": "ipython2",
   "version": "2.7.10"
  }
 },
 "nbformat": 4,
 "nbformat_minor": 0
}
